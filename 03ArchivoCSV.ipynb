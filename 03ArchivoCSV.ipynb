{
 "cells": [
  {
   "attachments": {},
   "cell_type": "markdown",
   "metadata": {},
   "source": [
    "# Archivo CSV"
   ]
  },
  {
   "attachments": {},
   "cell_type": "markdown",
   "metadata": {},
   "source": [
    "Google Colab te permite cargar archivos directamente de tu computadora por medio del panel izquierdo.\n",
    "\n",
    "Pero para esta práctica vamos a tomar directamente un archivo CSV desde internet. La ventaja de hacerlo así es que estamos usando los datos actuales y no fallamos por tener una versión obsoleta."
   ]
  },
  {
   "attachments": {},
   "cell_type": "markdown",
   "metadata": {},
   "source": [
    "## REDAM (Registro Estatal de Deudores Alimentarios Morosos)\n",
    "\n",
    "Inscribirá a las personas que hayan dejado de cumplir sus obligaciones alimentarias de manera consecutiva o intermitentemente, ya sea en tres ocasiones en un periodo de tres meses, o, para el caso de las pensiones alimenticias que se deban cumplir de manera mensual, en tres ocasiones en un periodo de seis meses, decretadas por la autoridad judicial correspondiente. [Fuente](https://www.pjecz.gob.mx/consultas/redam/)."
   ]
  },
  {
   "cell_type": "code",
   "execution_count": null,
   "metadata": {},
   "outputs": [],
   "source": [
    "# Definir el URL del archivo CSV con el REDAM\n",
    "url = 'https://storage.googleapis.com/pjecz-consultas/REDAM/redam.csv'"
   ]
  },
  {
   "cell_type": "code",
   "execution_count": null,
   "metadata": {},
   "outputs": [],
   "source": [
    "# Cargar paquetes requests y csv\n",
    "import requests\n",
    "import csv\n",
    "\n",
    "# Descargar el recurso por medio de requests\n",
    "respuesta = requests.get(url)\n",
    "\n",
    "# Transfromar el recurso en texto\n",
    "texto = respuesta.text\n",
    "\n",
    "# Separar las lineas del texto\n",
    "lineas = texto.split('\\n')\n",
    "\n",
    "# Crear un objeto csv.reader\n",
    "lector = csv.reader(lineas)\n",
    "\n",
    "# Mostrar los primeros 10 renglones\n",
    "for i, renglon in enumerate(lector):\n",
    "    if i < 10:\n",
    "        print(i, renglon)\n",
    "    else:\n",
    "        break"
   ]
  },
  {
   "attachments": {},
   "cell_type": "markdown",
   "metadata": {},
   "source": [
    "**RETO:** Filtren los nombres para buscar a alguien. Usen un nombre o apellido común."
   ]
  },
  {
   "attachments": {},
   "cell_type": "markdown",
   "metadata": {},
   "source": [
    "Una mejor forma de hacer lo anterior es por medio del paquete **Pandas**."
   ]
  },
  {
   "cell_type": "code",
   "execution_count": null,
   "metadata": {},
   "outputs": [],
   "source": [
    "# Cargar paquete Pandas\n",
    "import pandas as pd\n",
    "\n",
    "# Descargar y definir un dataframe de pandas con el url\n",
    "redam = pd.read_csv(url)\n",
    "\n",
    "# Mostrar los primeros 10 renglones\n",
    "redam.head(10)"
   ]
  },
  {
   "attachments": {},
   "cell_type": "markdown",
   "metadata": {},
   "source": [
    "## REPSVM (Registro Estatal de Personas Sancionadas por Violencia contra las Mujeres)\n",
    "\n",
    "Es un sistema de información de carácter administrativo y público, que contiene la inscripción de personas condenadas y sancionadas en un procedimiento penal por una sentencia ejecutoriada por delitos que implican violencia contra la mujer como son aquellos que vulneren el desarrollo de la personalidad; la integridad corporal; las libertades y seguridades reproductivas; la libertad y seguridades sexuales y el desarrollo de la personalidad; la vida; y la familia libre de violencia y la subsistencia familiar. [Fuente](https://www.pjecz.gob.mx/consultas/repsvm/)."
   ]
  },
  {
   "cell_type": "code",
   "execution_count": 7,
   "metadata": {},
   "outputs": [],
   "source": [
    "# Definir el URL del archivo CSV del REPSVM\n",
    "url = \"https://storage.googleapis.com/pjecz-consultas/REPSVM/repsvm.csv\""
   ]
  },
  {
   "attachments": {},
   "cell_type": "markdown",
   "metadata": {},
   "source": [
    "**RETO:** Descargar, alimentar un dataframe y mostrar los primeros 10 registros."
   ]
  },
  {
   "attachments": {},
   "cell_type": "markdown",
   "metadata": {},
   "source": [
    "**RETO:** Filtren los nombres para buscar a alguien. Usen un nombre o apellido común."
   ]
  }
 ],
 "metadata": {
  "kernelspec": {
   "display_name": ".venv",
   "language": "python",
   "name": "python3"
  },
  "language_info": {
   "codemirror_mode": {
    "name": "ipython",
    "version": 3
   },
   "file_extension": ".py",
   "mimetype": "text/x-python",
   "name": "python",
   "nbconvert_exporter": "python",
   "pygments_lexer": "ipython3",
   "version": "3.11.3"
  },
  "orig_nbformat": 4
 },
 "nbformat": 4,
 "nbformat_minor": 2
}
