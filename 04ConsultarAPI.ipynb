{
 "cells": [
  {
   "attachments": {},
   "cell_type": "markdown",
   "metadata": {},
   "source": [
    "# Consultar API\n",
    "\n",
    "El Poder Judicial del Estado de Coahuila de Zaragoza permite la [consulta de sus bases de datos](https://www.pjecz.gob.mx/consultas/) a través de una API.\n",
    "\n",
    "Para accesar a la información, es necesario solicitar un el acceso por medio de una carta donde se especifique el nombre de la persona responsable, el motivo de la solicitud y que afirme su compromiso de que le dará un uso lícito, responsable y constructivo.\n",
    "\n",
    "Para conocer las rutas y parámetros lea la [documentación](https://datos.justiciadigital.gob.mx/docs).\n",
    "\n",
    "Se recomienda que las API_KEY se guarden en un archivo `.env` y que este archivo se ignore en el repositorio."
   ]
  },
  {
   "cell_type": "code",
   "execution_count": null,
   "metadata": {},
   "outputs": [],
   "source": [
    "# Cargar paquetes dotenv y os\n",
    "from dotenv import load_dotenv\n",
    "import os\n",
    "\n",
    "# Ejecutar load_dotenv() para leer el contenido del archivo .env\n",
    "load_dotenv()\n",
    "\n",
    "# Definir constantes de la API\n",
    "API_KEY = os.getenv(\"API_KEY\", \"XXXXXXXX.XXXXXXXX.XXXXXXXXXXXXXXXXXXXXXXXX\")\n",
    "HOST = os.getenv(\"HOST\", \"https://datos.justiciadigital.gob.mx\")\n",
    "LIMIT = int(os.getenv(\"LIMIT\", 50))\n",
    "TIMEOUT = int(os.getenv(\"TIMEOUT\", 20))"
   ]
  },
  {
   "attachments": {},
   "cell_type": "markdown",
   "metadata": {},
   "source": [
    "En Python para hacer consultas a una API se usa el paquete `requests`."
   ]
  },
  {
   "cell_type": "code",
   "execution_count": null,
   "metadata": {},
   "outputs": [],
   "source": [
    "# Cargar requests\n",
    "import requests"
   ]
  },
  {
   "attachments": {},
   "cell_type": "markdown",
   "metadata": {},
   "source": [
    "Probar que responde la API..."
   ]
  },
  {
   "cell_type": "code",
   "execution_count": null,
   "metadata": {},
   "outputs": [],
   "source": [
    "# Mensaje de bienvenida de la API\n",
    "try:\n",
    "    response = requests.get(HOST, timeout=TIMEOUT)\n",
    "    print(\"Hola a la API: \", response.status_code, response.text)\n",
    "except requests.exceptions.Timeout:\n",
    "    print(\"Timeout error: \", response.status_code)"
   ]
  },
  {
   "attachments": {},
   "cell_type": "markdown",
   "metadata": {},
   "source": [
    "## Materias\n",
    "\n",
    "Las materias de los asuntos jurídicos."
   ]
  },
  {
   "cell_type": "code",
   "execution_count": null,
   "metadata": {},
   "outputs": [],
   "source": [
    "# Consultar las materias\n",
    "try:\n",
    "    respuesta = requests.get(url = f\"{HOST}/v3/materias\", headers={\"X-Api-Key\": API_KEY}, params={\"limit\": LIMIT}, timeout=TIMEOUT)\n",
    "    datos = respuesta.json()\n",
    "    print(\"Materias: \", datos)\n",
    "except requests.exceptions.RequestException as e:\n",
    "    print(\"Error de conexión: \", e)"
   ]
  },
  {
   "attachments": {},
   "cell_type": "markdown",
   "metadata": {},
   "source": [
    "## Distritos\n",
    "\n",
    "El Estado de Coahuila de Zaragoza se divide en 8 distritos jurisidiccionales."
   ]
  },
  {
   "cell_type": "code",
   "execution_count": null,
   "metadata": {},
   "outputs": [],
   "source": [
    "# Cargar pandas\n",
    "import pandas as pd"
   ]
  },
  {
   "cell_type": "code",
   "execution_count": null,
   "metadata": {},
   "outputs": [],
   "source": [
    "# Consultar los distritos judiciales\n",
    "try:\n",
    "    respuesta = requests.get(url = f\"{HOST}/v3/distritos\", headers={\"X-Api-Key\": API_KEY}, params={\"es_distrito\": True, \"limit\": LIMIT}, timeout=TIMEOUT)\n",
    "except requests.exceptions as error:\n",
    "    raise error\n",
    "datos = respuesta.json()\n",
    "if datos[\"success\"] is True:\n",
    "    print(\"Consulta exitosa!\")\n",
    "resultado = datos[\"result\"]\n",
    "total = resultado[\"total\"]\n",
    "print(\"Total de distritos judiciales: \", total)\n",
    "df = pd.DataFrame(resultado[\"items\"])\n",
    "df"
   ]
  },
  {
   "attachments": {},
   "cell_type": "markdown",
   "metadata": {},
   "source": [
    "## Autoridades\n",
    "\n",
    "Juzgados, tribunales y salas son las autoridades.\n",
    "\n",
    "**RETOS:** Hacer las consultas a las API para obtener las autoridades."
   ]
  },
  {
   "attachments": {},
   "cell_type": "markdown",
   "metadata": {},
   "source": [
    "## Versiones Públicas de las Sentencias\n",
    "\n",
    "**RETO:** Obtener las versiones públicas de las sentencias de un juzgado a su elección. Inclusive probar la descarga de los respectivos archivos PDF."
   ]
  },
  {
   "attachments": {},
   "cell_type": "markdown",
   "metadata": {},
   "source": [
    "## Listas de Acuerdos\n",
    "\n",
    "Actuaciones que realiza diariamente el Poder Judicial del Estado de Coahuila de Zaragoza y que por ley de acuerdo al Código Procesal Civil deben de ser publicadas; en donde se incluyen autos, acuerdos, sentencias, exhortos y audiencias.\n",
    "\n",
    "**RETOS:** Obtener las listas de acuerdos de un juzgado a su elección. Inclusive probar la descarga de los respectivos archivos PDF."
   ]
  }
 ],
 "metadata": {
  "kernelspec": {
   "display_name": ".venv",
   "language": "python",
   "name": "python3"
  },
  "language_info": {
   "codemirror_mode": {
    "name": "ipython",
    "version": 3
   },
   "file_extension": ".py",
   "mimetype": "text/x-python",
   "name": "python",
   "nbconvert_exporter": "python",
   "pygments_lexer": "ipython3",
   "version": "3.11.3"
  },
  "orig_nbformat": 4
 },
 "nbformat": 4,
 "nbformat_minor": 2
}
