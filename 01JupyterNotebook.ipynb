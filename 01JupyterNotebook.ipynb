{
 "cells": [
  {
   "attachments": {},
   "cell_type": "markdown",
   "metadata": {},
   "source": [
    "# Jupyter notebook"
   ]
  },
  {
   "attachments": {},
   "cell_type": "markdown",
   "metadata": {},
   "source": [
    "El [Proyecto Jupyter](https://jupyter.org/) es una organización sin ánimo de lucro creada para \"desarrollar software de código abierto, estándares abiertos y servicios para computación interactiva en docenas de lenguajes de programación\".\n",
    "\n",
    "La filosofía operativa del Proyecto Jupyter es apoyar la ciencia de datos interactiva y la computación científica en todos los lenguajes de programación mediante el desarrollo de software de código abierto."
   ]
  },
  {
   "attachments": {},
   "cell_type": "markdown",
   "metadata": {},
   "source": [
    "## Notebooks\n",
    "\n",
    "Un notebook (cuaderno) es sencillamente un documento en el cual podemos escribir notas y ejecutar código. Un archivo de notebook tiene la extensión `.ipynb`.\n",
    "\n",
    "Cada notebook está compuesto por una serie de celdas. Una celda con notas se escribe en formato [Markdown](https://colab.research.google.com/notebooks/markdown_guide.ipynb), mientras que una celda con código se escribe en un lenguaje de programación, que para Google Colab es Python. El resultado del código se muestra bajo la celda.\n",
    "\n",
    "Para ejecutar un notebook se requiere un navegador de internet y tener instalado [Jupyter notebook](https://jupyter.org/) en tu computadora o usar [Google Colab](https://colab.research.google.com/)."
   ]
  },
  {
   "attachments": {},
   "cell_type": "markdown",
   "metadata": {},
   "source": [
    "## Google Colaboratory\n",
    "\n",
    "Cuando creas un nuevo notebook, se crea en tu Google Drive. Tú puedes fácilmente compartir tus notebooks de Colab con amigos o compañeros de trabajo, permitiendo que ellos comenten o editen tu trabajo, o incluso que lo ejecuten y lo modifiquen. Para más detalles, consulta la [documentación de Google Colab](https://colab.research.google.com/notebooks/basic_features_overview.ipynb)."
   ]
  },
  {
   "attachments": {},
   "cell_type": "markdown",
   "metadata": {},
   "source": [
    "## Celdas\n",
    "\n",
    "Un notebook es un conjunto de celdas. Cada celda puede ser de dos tipos: celda de texto o celda de código.\n",
    "\n",
    "Para ejecutar una celda de código, primero revisa que arriba a la derecha aparezca **Connect,** entonces presiona el botón de play que aparece a la izquierda de la celda o presiona `Shift + Enter`.\n",
    "\n",
    "También puedes presionar los botones `+ Code` o `+ Text` para insertar una celda de código o una celda de texto, respectivamente.\n",
    "\n",
    "**RETO:** Inserta una celda de texto."
   ]
  },
  {
   "attachments": {},
   "cell_type": "markdown",
   "metadata": {},
   "source": [
    "**RETO:** Inserta una celda de código Python donde declares dos variables e imprimas la suma de las dos."
   ]
  },
  {
   "attachments": {},
   "cell_type": "markdown",
   "metadata": {},
   "source": [
    "## Atajos de teclado\n",
    "\n",
    "- `Ctrl + Enter`: ejecuta la celda actual\n",
    "- `Shift + Enter`: ejecuta la celda actual y pasa a la siguiente\n",
    "- `Alt + Enter`: ejecuta la celda actual y crea una nueva celda debajo"
   ]
  },
  {
   "attachments": {},
   "cell_type": "markdown",
   "metadata": {},
   "source": [
    "## Markdown\n",
    "\n",
    "Las celdas de texto se escriben en formato Markdown. Markdown es un lenguaje de marcado que permite escribir texto con formato sin necesidad de usar un editor de texto como Word. Markdown es muy útil para escribir notas, documentación, blogs, etc.\n",
    "\n",
    "- Para hacer un texto en negritas, se escribe entre dos asteriscos: `**texto**`\n",
    "- Para hacer un texto en cursivas, se escribe entre guiones bajos: `_texto_`\n",
    "- Para hacer un vínculo, se escribe entre corchetes el texto y entre paréntesis el vínculo: `[texto](vinculo)`\n",
    "- Para insertar una imagen, se escribe entre corchetes el texto y entre paréntesis el vínculo de la imagen: `![texto](vinculo)`\n",
    "\n",
    "**RETO:** Inserta una celda de texto donde hagas un texto en negritas, un texto en cursivas, un vínculo y una imagen."
   ]
  },
  {
   "attachments": {},
   "cell_type": "markdown",
   "metadata": {},
   "source": [
    "Para hacer un encabezado, usa el símbolo `#` al inicio de la línea. El número de `#` indica el nivel del encabezado. Por ejemplo, `# Encabezado 1` es un encabezado de nivel 1, mientras que `## Encabezado 2` es un encabezado de nivel 2.\n",
    "\n",
    "**RETO:** Inserta una celda de texto donde hagas un encabezados de nivel 1, 2 y 3."
   ]
  },
  {
   "attachments": {},
   "cell_type": "markdown",
   "metadata": {},
   "source": [
    "Para hacer una lista ordenada, se escribe el número seguido de un punto y un espacio. Por ejemplo:\n",
    "\n",
    "```\n",
    "1. Primer elemento\n",
    "2. Segundo elemento\n",
    "3. Tercer elemento\n",
    "```\n",
    "\n",
    "Para hacer una lista sin orden, se escribe un guión seguido de un espacio. Por ejemplo:\n",
    "\n",
    "```\n",
    "- Primer elemento\n",
    "- Segundo elemento\n",
    "- Tercer elemento\n",
    "```\n",
    "\n",
    "**RETO:** Inserta una celda de texto donde hagas una lista ordenada y una lista sin orden."
   ]
  },
  {
   "attachments": {},
   "cell_type": "markdown",
   "metadata": {},
   "source": []
  }
 ],
 "metadata": {
  "kernelspec": {
   "display_name": ".venv",
   "language": "python",
   "name": "python3"
  },
  "language_info": {
   "name": "python",
   "version": "3.11.3"
  },
  "orig_nbformat": 4
 },
 "nbformat": 4,
 "nbformat_minor": 2
}
